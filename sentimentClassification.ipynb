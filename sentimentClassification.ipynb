{
 "cells": [
  {
   "cell_type": "code",
   "execution_count": 1,
   "metadata": {},
   "outputs": [
    {
     "name": "stderr",
     "output_type": "stream",
     "text": [
      "/usr/local/lib/python3.6/site-packages/h5py/__init__.py:36: FutureWarning: Conversion of the second argument of issubdtype from `float` to `np.floating` is deprecated. In future, it will be treated as `np.float64 == np.dtype(float).type`.\n",
      "  from ._conv import register_converters as _register_converters\n",
      "Using TensorFlow backend.\n"
     ]
    }
   ],
   "source": [
    "import numpy as np \n",
    "import re\n",
    "from sklearn.model_selection import train_test_split\n",
    "from keras.models import Sequential\n",
    "from keras.layers import Dense, Activation\n",
    "import pandas as pd"
   ]
  },
  {
   "cell_type": "code",
   "execution_count": 3,
   "metadata": {},
   "outputs": [],
   "source": [
    "train = pd.read_csv(\"/home/it/Desktop/Desktop/kauzi/Dataset/SentimentClassification/train.tsv\", delimiter='\\t')\n",
    "test = pd.read_csv(\"/home/it/Desktop/Desktop/kauzi/Dataset/SentimentClassification/test.tsv\", delimiter='\\t')"
   ]
  },
  {
   "cell_type": "code",
   "execution_count": 4,
   "metadata": {},
   "outputs": [
    {
     "name": "stdout",
     "output_type": "stream",
     "text": [
      "['PhraseId' 'SentenceId' 'Phrase' 'Sentiment']\n",
      "   PhraseId  SentenceId                                             Phrase  \\\n",
      "0         1           1  A series of escapades demonstrating the adage ...   \n",
      "1         2           1  A series of escapades demonstrating the adage ...   \n",
      "2         3           1                                           A series   \n",
      "3         4           1                                                  A   \n",
      "4         5           1                                             series   \n",
      "\n",
      "   Sentiment  \n",
      "0          1  \n",
      "1          2  \n",
      "2          2  \n",
      "3          2  \n",
      "4          2  \n"
     ]
    }
   ],
   "source": [
    "print(train.columns.values)\n",
    "print(train.head())"
   ]
  },
  {
   "cell_type": "code",
   "execution_count": 7,
   "metadata": {},
   "outputs": [],
   "source": [
    "train = train.drop(['PhraseId', 'SentenceId'], axis = 1)\n",
    "test = test.drop(['PhraseId', 'SentenceId'], axis = 1)"
   ]
  },
  {
   "cell_type": "code",
   "execution_count": 8,
   "metadata": {},
   "outputs": [
    {
     "name": "stdout",
     "output_type": "stream",
     "text": [
      "                                              Phrase  Sentiment\n",
      "0  A series of escapades demonstrating the adage ...          1\n",
      "1  A series of escapades demonstrating the adage ...          2\n",
      "2                                           A series          2\n",
      "3                                                  A          2\n",
      "4                                             series          2\n"
     ]
    }
   ],
   "source": [
    "print(train.head())"
   ]
  },
  {
   "cell_type": "code",
   "execution_count": 25,
   "metadata": {},
   "outputs": [
    {
     "name": "stdout",
     "output_type": "stream",
     "text": [
      "52\n",
      "56\n"
     ]
    }
   ],
   "source": [
    "word_list = []\n",
    "max_length_of_phrase = 0\n",
    "for i in train['Phrase']:\n",
    "    length = 0\n",
    "    for j in i.strip().split():\n",
    "        word_list.append(j)\n",
    "        length+=1\n",
    "    if length > max_length_of_phrase:\n",
    "        max_length_of_phrase = length\n",
    "print(max_length_of_phrase)\n",
    "for i in test['Phrase']:\n",
    "    length = 0\n",
    "    for j in i.strip().split():\n",
    "        word_list.append(j)\n",
    "        length+=1\n",
    "    if length > max_length_of_phrase:\n",
    "        max_length_of_phrase = length\n",
    "print(max_length_of_phrase)"
   ]
  },
  {
   "cell_type": "code",
   "execution_count": 26,
   "metadata": {},
   "outputs": [
    {
     "name": "stdout",
     "output_type": "stream",
     "text": [
      "21637\n"
     ]
    }
   ],
   "source": [
    "word_list = list(set(word_list))\n",
    "print(len(word_list))"
   ]
  },
  {
   "cell_type": "code",
   "execution_count": 27,
   "metadata": {},
   "outputs": [],
   "source": [
    "word_dictionary = dict(zip(word_list, [i+1 for i in range(0, len(word_list))]))"
   ]
  },
  {
   "cell_type": "code",
   "execution_count": 28,
   "metadata": {},
   "outputs": [
    {
     "name": "stdout",
     "output_type": "stream",
     "text": [
      "56\n"
     ]
    }
   ],
   "source": [
    "X_train = np.zeros((len(train), max_length_of_phrase))\n",
    "print(max_length_of_phrase)\n",
    "for i in range(0, len(train['Phrase'])):\n",
    "    phrase = train['Phrase'][i]\n",
    "    phrase_dem = []\n",
    "    length = 0\n",
    "    for word in phrase.strip().split():\n",
    "        phrase_dem.append(dictionary[word])\n",
    "        length+=1\n",
    "    phrase_dem.extend([0 for j in range(0, max_length_of_phrase-length)])\n",
    "    X_train[i] = phrase_dem\n",
    "X_test = np.zeros((len(test), max_length_of_phrase))\n",
    "for i in range(0, len(test['Phrase'])):\n",
    "    phrase = test['Phrase'][i]\n",
    "    phrase_dem = []\n",
    "    length = 0\n",
    "    for word in phrase.strip().split():\n",
    "        phrase_dem.append(dictionary[word])\n",
    "        length+=1\n",
    "    phrase_dem.extend([0 for _ in range(0, max_length_of_phrase-length)])\n",
    "    X_test[i] = phrase_dem"
   ]
  },
  {
   "cell_type": "code",
   "execution_count": 31,
   "metadata": {},
   "outputs": [],
   "source": [
    "y_train = np.zeros((len(train), 5))\n",
    "for i in range(0, len(train)):\n",
    "    y_i = np.zeros((5))\n",
    "    y_i[train['Sentiment'][i]-1] = 1\n",
    "    y_train[i] = y_i"
   ]
  },
  {
   "cell_type": "code",
   "execution_count": 29,
   "metadata": {},
   "outputs": [],
   "source": [
    "model = Sequential()\n",
    "model.add(Dense(50, input_shape = (max_length_of_phrase, ), activation=\"relu\"))\n",
    "model.add(Dense(30, activation=\"relu\"))\n",
    "model.add(Dense(10, activation=\"relu\"))\n",
    "model.add(Dense(5, activation=\"softmax\"))"
   ]
  },
  {
   "cell_type": "code",
   "execution_count": 32,
   "metadata": {},
   "outputs": [],
   "source": [
    "model.compile(optimizer = 'adam', loss='categorical_crossentropy', metrics = ['accuracy'])"
   ]
  },
  {
   "cell_type": "code",
   "execution_count": 33,
   "metadata": {},
   "outputs": [
    {
     "name": "stdout",
     "output_type": "stream",
     "text": [
      "Epoch 1/10\n",
      "156060/156060 [==============================] - 6s 41us/step - loss: 8.2878 - acc: 0.4857\n",
      "Epoch 2/10\n",
      "156060/156060 [==============================] - 6s 36us/step - loss: 7.8975 - acc: 0.5097\n",
      "Epoch 3/10\n",
      "156060/156060 [==============================] - 6s 40us/step - loss: 11.2325 - acc: 0.3027\n",
      "Epoch 4/10\n",
      "156060/156060 [==============================] - 6s 37us/step - loss: 3.0196 - acc: 0.4715\n",
      "Epoch 5/10\n",
      "156060/156060 [==============================] - 6s 40us/step - loss: 1.2838 - acc: 0.5099\n",
      "Epoch 6/10\n",
      "156060/156060 [==============================] - 6s 36us/step - loss: 1.2838 - acc: 0.5099\n",
      "Epoch 7/10\n",
      "156060/156060 [==============================] - 6s 39us/step - loss: 1.2844 - acc: 0.5099\n",
      "Epoch 8/10\n",
      "156060/156060 [==============================] - 6s 37us/step - loss: 1.2861 - acc: 0.5099\n",
      "Epoch 9/10\n",
      "156060/156060 [==============================] - 6s 42us/step - loss: 1.2838 - acc: 0.5100\n",
      "Epoch 10/10\n",
      "156060/156060 [==============================] - 6s 39us/step - loss: 1.3016 - acc: 0.5099\n"
     ]
    },
    {
     "data": {
      "text/plain": [
       "<keras.callbacks.History at 0x7f35f8cf4c50>"
      ]
     },
     "execution_count": 33,
     "metadata": {},
     "output_type": "execute_result"
    }
   ],
   "source": [
    "model.fit(X_train, y_train, epochs = 10, batch_size=32)"
   ]
  },
  {
   "cell_type": "code",
   "execution_count": null,
   "metadata": {},
   "outputs": [],
   "source": []
  }
 ],
 "metadata": {
  "kernelspec": {
   "display_name": "Python 3",
   "language": "python",
   "name": "python3"
  },
  "language_info": {
   "codemirror_mode": {
    "name": "ipython",
    "version": 3
   },
   "file_extension": ".py",
   "mimetype": "text/x-python",
   "name": "python",
   "nbconvert_exporter": "python",
   "pygments_lexer": "ipython3",
   "version": "3.6.3"
  }
 },
 "nbformat": 4,
 "nbformat_minor": 2
}
