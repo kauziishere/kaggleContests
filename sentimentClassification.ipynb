{
 "cells": [
  {
   "cell_type": "code",
   "execution_count": 1,
   "metadata": {},
   "outputs": [
    {
     "name": "stderr",
     "output_type": "stream",
     "text": [
      "/usr/local/lib/python3.5/dist-packages/h5py/__init__.py:36: FutureWarning: Conversion of the second argument of issubdtype from `float` to `np.floating` is deprecated. In future, it will be treated as `np.float64 == np.dtype(float).type`.\n",
      "  from ._conv import register_converters as _register_converters\n",
      "Using TensorFlow backend.\n"
     ]
    }
   ],
   "source": [
    "import numpy as np \n",
    "import re\n",
    "import keras\n",
    "from keras import backend as K\n",
    "import tensorflow as tf\n",
    "from sklearn.model_selection import train_test_split\n",
    "from sklearn.preprocessing import OneHotEncoder\n",
    "from keras.models import Sequential\n",
    "from keras.layers import Dense, Activation, Embedding, LSTM\n",
    "from keras.preprocessing import sequence\n",
    "from keras.preprocessing.text import Tokenizer\n",
    "import pandas as pd"
   ]
  },
  {
   "cell_type": "code",
   "execution_count": 2,
   "metadata": {},
   "outputs": [],
   "source": [
    "train = pd.read_csv(\"../movieSentimentAnalysis/train.tsv\", delimiter='\\t')\n",
    "test = pd.read_csv(\"../movieSentimentAnalysis/test.tsv\", delimiter='\\t')"
   ]
  },
  {
   "cell_type": "code",
   "execution_count": 3,
   "metadata": {},
   "outputs": [
    {
     "name": "stdout",
     "output_type": "stream",
     "text": [
      "['PhraseId' 'SentenceId' 'Phrase' 'Sentiment']\n",
      "   PhraseId  SentenceId                                             Phrase  \\\n",
      "0         1           1  A series of escapades demonstrating the adage ...   \n",
      "1         2           1  A series of escapades demonstrating the adage ...   \n",
      "2         3           1                                           A series   \n",
      "3         4           1                                                  A   \n",
      "4         5           1                                             series   \n",
      "\n",
      "   Sentiment  \n",
      "0          1  \n",
      "1          2  \n",
      "2          2  \n",
      "3          2  \n",
      "4          2  \n"
     ]
    }
   ],
   "source": [
    "print(train.columns.values)\n",
    "print(train.head())"
   ]
  },
  {
   "cell_type": "code",
   "execution_count": 4,
   "metadata": {},
   "outputs": [],
   "source": [
    "train = train.drop(['PhraseId', 'SentenceId'], axis = 1)\n",
    "test = test.drop(['PhraseId', 'SentenceId'], axis = 1)"
   ]
  },
  {
   "cell_type": "code",
   "execution_count": 5,
   "metadata": {},
   "outputs": [
    {
     "name": "stdout",
     "output_type": "stream",
     "text": [
      "                                              Phrase  Sentiment\n",
      "0  A series of escapades demonstrating the adage ...          1\n",
      "1  A series of escapades demonstrating the adage ...          2\n",
      "2                                           A series          2\n",
      "3                                                  A          2\n",
      "4                                             series          2\n"
     ]
    }
   ],
   "source": [
    "print(train.head())"
   ]
  },
  {
   "cell_type": "markdown",
   "metadata": {},
   "source": [
    "Naive method for Preprocessing input"
   ]
  },
  {
   "cell_type": "code",
   "execution_count": null,
   "metadata": {},
   "outputs": [],
   "source": [
    "\"\"\"word_list = []\n",
    "max_length_of_phrase = 0\n",
    "for i in train['Phrase']:\n",
    "    length = 0\n",
    "    for j in i.strip().split():\n",
    "        word_list.append(j)\n",
    "        length+=1\n",
    "    if length > max_length_of_phrase:\n",
    "        max_length_of_phrase = length\n",
    "print(max_length_of_phrase)\n",
    "for i in test['Phrase']:\n",
    "    length = 0\n",
    "    for j in i.strip().split():\n",
    "        word_list.append(j)\n",
    "        length+=1\n",
    "    if length > max_length_of_phrase:\n",
    "        max_length_of_phrase = length\n",
    "print(max_length_of_phrase)\"\"\""
   ]
  },
  {
   "cell_type": "code",
   "execution_count": null,
   "metadata": {},
   "outputs": [],
   "source": [
    "\"\"\"word_list = list(set(word_list))\n",
    "print(len(word_list))\"\"\""
   ]
  },
  {
   "cell_type": "code",
   "execution_count": null,
   "metadata": {},
   "outputs": [],
   "source": [
    "\"\"\"word_dictionary = dict(zip(word_list, [i+1 for i in range(0, len(word_list))]))\"\"\""
   ]
  },
  {
   "cell_type": "code",
   "execution_count": null,
   "metadata": {},
   "outputs": [],
   "source": [
    "\"\"\"X_train = np.zeros((len(train), max_length_of_phrase))\n",
    "print(max_length_of_phrase)\n",
    "for i in range(0, len(train['Phrase'])):\n",
    "    phrase = train['Phrase'][i]\n",
    "    phrase_dem = []\n",
    "    length = 0\n",
    "    for word in phrase.strip().split():\n",
    "        phrase_dem.append(dictionary[word])\n",
    "        length+=1\n",
    "    phrase_dem.extend([0 for j in range(0, max_length_of_phrase-length)])\n",
    "    X_train[i] = phrase_dem\n",
    "X_test = np.zeros((len(test), max_length_of_phrase))\n",
    "for i in range(0, len(test['Phrase'])):\n",
    "    phrase = test['Phrase'][i]\n",
    "    phrase_dem = []\n",
    "    length = 0\n",
    "    for word in phrase.strip().split():\n",
    "        phrase_dem.append(dictionary[word])\n",
    "        length+=1\n",
    "    phrase_dem.extend([0 for _ in range(0, max_length_of_phrase-length)])\n",
    "    X_test[i] = phrase_dem\"\"\""
   ]
  },
  {
   "cell_type": "code",
   "execution_count": null,
   "metadata": {},
   "outputs": [],
   "source": [
    "\"\"\"y_train = np.zeros((len(train), 5))\n",
    "for i in range(0, len(train)):\n",
    "    y_i = np.zeros((5))\n",
    "    y_i[train['Sentiment'][i]-1] = 1\n",
    "    y_train[i] = y_i\"\"\""
   ]
  },
  {
   "cell_type": "markdown",
   "metadata": {},
   "source": [
    "Using tf-idf"
   ]
  },
  {
   "cell_type": "code",
   "execution_count": 6,
   "metadata": {},
   "outputs": [
    {
     "name": "stderr",
     "output_type": "stream",
     "text": [
      "/usr/local/lib/python3.5/dist-packages/ipykernel_launcher.py:6: FutureWarning: reshape is deprecated and will raise in a subsequent release. Please use .values.reshape(...) instead\n",
      "  \n"
     ]
    }
   ],
   "source": [
    "max_words  = 1000\n",
    "max_length = 150\n",
    "X = train['Phrase']\n",
    "y = train['Sentiment']\n",
    "onehot_encoder = OneHotEncoder(sparse=False)\n",
    "y = y.reshape(len(y), 1)\n",
    "y = onehot_encoder.fit_transform(y)\n",
    "X_train, X_val, y_train, y_val = train_test_split(X, y, test_size = 0.2, random_state = 42)"
   ]
  },
  {
   "cell_type": "code",
   "execution_count": 7,
   "metadata": {},
   "outputs": [],
   "source": [
    "token   = Tokenizer(num_words = max_words)\n",
    "token.fit_on_texts(X_train)\n",
    "seq     = token.texts_to_sequences(X_train)\n",
    "X_train = sequence.pad_sequences(seq, maxlen = max_length)\n",
    "seq     = token.texts_to_sequences(X_val)\n",
    "X_val   = sequence.pad_sequences(seq, maxlen = max_length)"
   ]
  },
  {
   "cell_type": "code",
   "execution_count": 8,
   "metadata": {},
   "outputs": [],
   "source": [
    "model = Sequential()\n",
    "model.add(Dense(50, input_shape = (max_length, ), activation=\"relu\"))\n",
    "model.add(Dense(30, activation=\"relu\"))\n",
    "model.add(Dense(10, activation=\"relu\"))\n",
    "model.add(Dense(5, activation=\"softmax\"))"
   ]
  },
  {
   "cell_type": "code",
   "execution_count": 9,
   "metadata": {},
   "outputs": [
    {
     "name": "stdout",
     "output_type": "stream",
     "text": [
      "WARNING:tensorflow:From /usr/local/lib/python3.5/dist-packages/keras/backend/tensorflow_backend.py:2857: calling reduce_sum (from tensorflow.python.ops.math_ops) with keep_dims is deprecated and will be removed in a future version.\n",
      "Instructions for updating:\n",
      "keep_dims is deprecated, use keepdims instead\n",
      "WARNING:tensorflow:From /usr/local/lib/python3.5/dist-packages/keras/backend/tensorflow_backend.py:1340: calling reduce_mean (from tensorflow.python.ops.math_ops) with keep_dims is deprecated and will be removed in a future version.\n",
      "Instructions for updating:\n",
      "keep_dims is deprecated, use keepdims instead\n"
     ]
    }
   ],
   "source": [
    "model.compile(optimizer = 'adam', loss='categorical_crossentropy', metrics = ['accuracy'])"
   ]
  },
  {
   "cell_type": "code",
   "execution_count": 10,
   "metadata": {},
   "outputs": [
    {
     "name": "stdout",
     "output_type": "stream",
     "text": [
      "Epoch 1/10\n",
      "124848/124848 [==============================] - 27s 214us/step - loss: 1.3604 - acc: 0.5087\n",
      "Epoch 2/10\n",
      "124848/124848 [==============================] - 26s 205us/step - loss: 1.2588 - acc: 0.5122\n",
      "Epoch 3/10\n",
      "124848/124848 [==============================] - 26s 206us/step - loss: 1.2565 - acc: 0.5122\n",
      "Epoch 4/10\n",
      "124848/124848 [==============================] - 26s 209us/step - loss: 1.2492 - acc: 0.5122\n",
      "Epoch 5/10\n",
      "124848/124848 [==============================] - 26s 210us/step - loss: 1.2366 - acc: 0.5122\n",
      "Epoch 6/10\n",
      "124848/124848 [==============================] - 26s 209us/step - loss: 1.2328 - acc: 0.5122\n",
      "Epoch 7/10\n",
      "124848/124848 [==============================] - 27s 220us/step - loss: 1.2319 - acc: 0.5122\n",
      "Epoch 8/10\n",
      "124848/124848 [==============================] - 27s 215us/step - loss: 1.2306 - acc: 0.5122\n",
      "Epoch 9/10\n",
      "124848/124848 [==============================] - 26s 212us/step - loss: 1.2290 - acc: 0.5121\n",
      "Epoch 10/10\n",
      "124848/124848 [==============================] - 27s 216us/step - loss: 1.2280 - acc: 0.5122\n"
     ]
    },
    {
     "data": {
      "text/plain": [
       "<keras.callbacks.History at 0x7f3d5abb12e8>"
      ]
     },
     "execution_count": 10,
     "metadata": {},
     "output_type": "execute_result"
    }
   ],
   "source": [
    "model.fit(X_train, y_train, epochs = 10, batch_size=32)"
   ]
  },
  {
   "cell_type": "code",
   "execution_count": 11,
   "metadata": {},
   "outputs": [
    {
     "name": "stdout",
     "output_type": "stream",
     "text": [
      "31212/31212 [==============================] - 3s 81us/step\n"
     ]
    },
    {
     "data": {
      "text/plain": [
       "[1.2430429702597705, 0.5010572856593618]"
      ]
     },
     "execution_count": 11,
     "metadata": {},
     "output_type": "execute_result"
    }
   ],
   "source": [
    "model.evaluate(X_val, y_val)"
   ]
  },
  {
   "cell_type": "code",
   "execution_count": 12,
   "metadata": {},
   "outputs": [],
   "source": [
    "def lstm():\n",
    "    model = Sequential()\n",
    "    model.add(Embedding(max_words, 16, input_length = max_length, name = 'embedding'))\n",
    "    model.add(LSTM(64, return_sequences = True, name = 'lstm_1'))\n",
    "    model.add(LSTM(32, return_sequences = False, name = 'lstm_2'))\n",
    "    model.add(Dense(5, activation='sigmoid', name = 'dense_1'))\n",
    "    return model"
   ]
  },
  {
   "cell_type": "code",
   "execution_count": 13,
   "metadata": {},
   "outputs": [
    {
     "name": "stdout",
     "output_type": "stream",
     "text": [
      "_________________________________________________________________\n",
      "Layer (type)                 Output Shape              Param #   \n",
      "=================================================================\n",
      "embedding (Embedding)        (None, 150, 16)           16000     \n",
      "_________________________________________________________________\n",
      "lstm_1 (LSTM)                (None, 150, 64)           20736     \n",
      "_________________________________________________________________\n",
      "lstm_2 (LSTM)                (None, 32)                12416     \n",
      "_________________________________________________________________\n",
      "dense_1 (Dense)              (None, 5)                 165       \n",
      "=================================================================\n",
      "Total params: 49,317\n",
      "Trainable params: 49,317\n",
      "Non-trainable params: 0\n",
      "_________________________________________________________________\n"
     ]
    }
   ],
   "source": [
    "model = lstm()\n",
    "model.summary()"
   ]
  },
  {
   "cell_type": "code",
   "execution_count": 14,
   "metadata": {},
   "outputs": [],
   "source": [
    "model.compile(optimizer = 'adam', loss='categorical_crossentropy', metrics = ['accuracy'])"
   ]
  },
  {
   "cell_type": "code",
   "execution_count": 15,
   "metadata": {
    "scrolled": false
   },
   "outputs": [
    {
     "name": "stdout",
     "output_type": "stream",
     "text": [
      "Epoch 1/5\n",
      "124848/124848 [==============================] - 458s 4ms/step - loss: 1.1809 - acc: 0.5365\n",
      "Epoch 2/5\n",
      "124848/124848 [==============================] - 427s 3ms/step - loss: 1.0654 - acc: 0.5820\n",
      "Epoch 3/5\n",
      "124848/124848 [==============================] - 428s 3ms/step - loss: 1.0360 - acc: 0.5914\n",
      "Epoch 4/5\n",
      "124848/124848 [==============================] - 437s 4ms/step - loss: 1.0263 - acc: 0.5939\n",
      "Epoch 5/5\n",
      "124848/124848 [==============================] - 498s 4ms/step - loss: 1.0154 - acc: 0.5995\n"
     ]
    },
    {
     "data": {
      "text/plain": [
       "<keras.callbacks.History at 0x7f3d5a4ee3c8>"
      ]
     },
     "execution_count": 15,
     "metadata": {},
     "output_type": "execute_result"
    }
   ],
   "source": [
    "model.fit(X_train, y_train, epochs = 5, batch_size = 128)"
   ]
  },
  {
   "cell_type": "code",
   "execution_count": null,
   "metadata": {},
   "outputs": [
    {
     "name": "stdout",
     "output_type": "stream",
     "text": [
      "14592/31212 [=============>................] - ETA: 49s"
     ]
    }
   ],
   "source": [
    "model.evaluate(X_val, y_val)"
   ]
  },
  {
   "cell_type": "code",
   "execution_count": null,
   "metadata": {},
   "outputs": [],
   "source": []
  }
 ],
 "metadata": {
  "kernelspec": {
   "display_name": "Python 3",
   "language": "python",
   "name": "python3"
  },
  "language_info": {
   "codemirror_mode": {
    "name": "ipython",
    "version": 3
   },
   "file_extension": ".py",
   "mimetype": "text/x-python",
   "name": "python",
   "nbconvert_exporter": "python",
   "pygments_lexer": "ipython3",
   "version": "3.5.2"
  }
 },
 "nbformat": 4,
 "nbformat_minor": 2
}
