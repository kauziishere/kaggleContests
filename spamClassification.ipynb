{
 "cells": [
  {
   "cell_type": "code",
   "execution_count": 228,
   "metadata": {},
   "outputs": [],
   "source": [
    "import numpy as np \n",
    "import re\n",
    "from sklearn.model_selection import train_test_split\n",
    "from keras.models import Sequential\n",
    "from keras.layers import Dense, Activation\n",
    "import pandas as pd"
   ]
  },
  {
   "cell_type": "code",
   "execution_count": 229,
   "metadata": {},
   "outputs": [],
   "source": [
    "data = pd.read_csv(\"/home/it/Desktop/Desktop/kauzi/Dataset/spam.csv\", encoding='iso-8859-1')"
   ]
  },
  {
   "cell_type": "code",
   "execution_count": 230,
   "metadata": {},
   "outputs": [
    {
     "name": "stdout",
     "output_type": "stream",
     "text": [
      "['v1' 'v2' 'Unnamed: 2' 'Unnamed: 3' 'Unnamed: 4']\n"
     ]
    }
   ],
   "source": [
    "print(data.columns.values)"
   ]
  },
  {
   "cell_type": "code",
   "execution_count": 231,
   "metadata": {},
   "outputs": [],
   "source": [
    "y_attribute_sub = dict(zip(['spam', 'ham'], [1, 0]))\n",
    "for i in range(0, len(data)):\n",
    "    data['v1'][i] = y_attribute_sub[data['v1'][i]]"
   ]
  },
  {
   "cell_type": "code",
   "execution_count": 232,
   "metadata": {},
   "outputs": [
    {
     "name": "stdout",
     "output_type": "stream",
     "text": [
      "  v1                                                 v2 Unnamed: 2 Unnamed: 3  \\\n",
      "0  0  Go until jurong point, crazy.. Available only ...        NaN        NaN   \n",
      "1  0                      Ok lar... Joking wif u oni...        NaN        NaN   \n",
      "2  1  Free entry in 2 a wkly comp to win FA Cup fina...        NaN        NaN   \n",
      "3  0  U dun say so early hor... U c already then say...        NaN        NaN   \n",
      "4  0  Nah I don't think he goes to usf, he lives aro...        NaN        NaN   \n",
      "\n",
      "  Unnamed: 4  \n",
      "0        NaN  \n",
      "1        NaN  \n",
      "2        NaN  \n",
      "3        NaN  \n",
      "4        NaN  \n"
     ]
    }
   ],
   "source": [
    "print(data.head())"
   ]
  },
  {
   "cell_type": "code",
   "execution_count": 233,
   "metadata": {},
   "outputs": [
    {
     "name": "stdout",
     "output_type": "stream",
     "text": [
      "  v1                                                 v2\n",
      "0  0  Go until jurong point, crazy.. Available only ...\n",
      "1  0                      Ok lar... Joking wif u oni...\n",
      "2  1  Free entry in 2 a wkly comp to win FA Cup fina...\n",
      "3  0  U dun say so early hor... U c already then say...\n",
      "4  0  Nah I don't think he goes to usf, he lives aro...\n"
     ]
    }
   ],
   "source": [
    "data = data.drop(['Unnamed: 2', 'Unnamed: 3', 'Unnamed: 4'], axis = 1)\n",
    "print(data.head())"
   ]
  },
  {
   "cell_type": "code",
   "execution_count": 234,
   "metadata": {},
   "outputs": [
    {
     "name": "stdout",
     "output_type": "stream",
     "text": [
      "10864\n"
     ]
    }
   ],
   "source": [
    "corpus = list()\n",
    "for i in range(0, len(data)):\n",
    "    corpus.extend(re.sub(r'[^\\w]', ' ', data['v2'][i]).strip().split())\n",
    "corpus = list(set(corpus))\n",
    "print(len(corpus))"
   ]
  },
  {
   "cell_type": "code",
   "execution_count": 235,
   "metadata": {},
   "outputs": [],
   "source": [
    "encoding = dict(zip(corpus, [i+1 for i in range(0, len(corpus))]))"
   ]
  },
  {
   "cell_type": "code",
   "execution_count": 236,
   "metadata": {},
   "outputs": [
    {
     "name": "stdout",
     "output_type": "stream",
     "text": [
      "  v1                                                 v2\n",
      "0  0  [4135, 9290, 749, 4714, 8243, 3224, 2064, 4782...\n",
      "1  0               [6115, 2828, 4496, 1543, 5083, 3635]\n",
      "2  1  [6532, 6870, 4782, 5804, 5236, 5324, 990, 4859...\n",
      "3  0  [10408, 9051, 10517, 10407, 7863, 519, 10408, ...\n",
      "4  0  [1587, 1314, 10443, 7443, 6451, 10753, 59, 485... 190\n"
     ]
    }
   ],
   "source": [
    "max_length = 0\n",
    "for i in range(0, len(data)):\n",
    "    vector = re.sub(r'[^\\w]', ' ', data['v2'][i]).strip().split()\n",
    "    for j in range(0, len(vector)):\n",
    "        vector[j] = encoding[vector[j]]\n",
    "    data['v2'][i] = vector\n",
    "    if(max_length < len(vector)):\n",
    "        max_length = len(vector)\n",
    "print(data.head(), max_length)"
   ]
  },
  {
   "cell_type": "code",
   "execution_count": 243,
   "metadata": {},
   "outputs": [
    {
     "name": "stdout",
     "output_type": "stream",
     "text": [
      "  v1                                                 v2\n",
      "0  0  [4135, 9290, 749, 4714, 8243, 3224, 2064, 4782...\n",
      "1  0  [6115, 2828, 4496, 1543, 5083, 3635, 0, 0, 0, ...\n",
      "2  1  [6532, 6870, 4782, 5804, 5236, 5324, 990, 4859...\n",
      "3  0  [10408, 9051, 10517, 10407, 7863, 519, 10408, ...\n",
      "4  0  [1587, 1314, 10443, 7443, 6451, 10753, 59, 485...\n",
      "(5572, 190)\n"
     ]
    }
   ],
   "source": [
    "print(data.head())\n",
    "X = np.zeros((len(data['v2']), max_length))\n",
    "for i in range(1, len(data)):\n",
    "    data['v2'][i].extend([0 for j in range(0, max_length-len(data['v2'][i]))])\n",
    "    X[i,:] = data['v2'][i]\n",
    "print(X.shape)"
   ]
  },
  {
   "cell_type": "code",
   "execution_count": 244,
   "metadata": {},
   "outputs": [],
   "source": [
    "model = Sequential()\n",
    "model.add(Dense(100, input_shape=(190, ), activation ='relu', name='dense_7'))\n",
    "model.add(Dense(30, activation='relu', name='dense_2'))\n",
    "model.add(Dense(1, activation='sigmoid', name='dense_3'))"
   ]
  },
  {
   "cell_type": "code",
   "execution_count": 259,
   "metadata": {},
   "outputs": [],
   "source": [
    "model.compile(optimizer='adagrad', loss='binary_crossentropy', metrics=['accuracy'])"
   ]
  },
  {
   "cell_type": "code",
   "execution_count": 260,
   "metadata": {},
   "outputs": [],
   "source": [
    "X_train, X_test, y_train, y_test = train_test_split(X, data['v1'], test_size = 0.33, random_state = 42)"
   ]
  },
  {
   "cell_type": "code",
   "execution_count": 263,
   "metadata": {
    "scrolled": false
   },
   "outputs": [
    {
     "name": "stdout",
     "output_type": "stream",
     "text": [
      "Shape of input: (3733, 190) and 190 and shape of output: 0\n",
      "_________________________________________________________________\n",
      "Layer (type)                 Output Shape              Param #   \n",
      "=================================================================\n",
      "dense_7 (Dense)              (None, 100)               19100     \n",
      "_________________________________________________________________\n",
      "dense_2 (Dense)              (None, 30)                3030      \n",
      "_________________________________________________________________\n",
      "dense_3 (Dense)              (None, 1)                 31        \n",
      "=================================================================\n",
      "Total params: 22,161\n",
      "Trainable params: 22,161\n",
      "Non-trainable params: 0\n",
      "_________________________________________________________________\n",
      "Epoch 1/20\n",
      "3733/3733 [==============================] - 0s 28us/step - loss: 2.1373 - acc: 0.8674\n",
      "Epoch 2/20\n",
      "3733/3733 [==============================] - 0s 21us/step - loss: 2.1373 - acc: 0.8674\n",
      "Epoch 3/20\n",
      "3733/3733 [==============================] - 0s 24us/step - loss: 2.1373 - acc: 0.8674\n",
      "Epoch 4/20\n",
      "3733/3733 [==============================] - 0s 22us/step - loss: 2.1373 - acc: 0.8674\n",
      "Epoch 5/20\n",
      "3733/3733 [==============================] - 0s 21us/step - loss: 2.1373 - acc: 0.8674\n",
      "Epoch 6/20\n",
      "3733/3733 [==============================] - 0s 23us/step - loss: 2.1373 - acc: 0.8674\n",
      "Epoch 7/20\n",
      "3733/3733 [==============================] - 0s 25us/step - loss: 2.1373 - acc: 0.8674\n",
      "Epoch 8/20\n",
      "3733/3733 [==============================] - 0s 24us/step - loss: 2.1373 - acc: 0.8674\n",
      "Epoch 9/20\n",
      "3733/3733 [==============================] - 0s 36us/step - loss: 2.1373 - acc: 0.8674\n",
      "Epoch 10/20\n",
      "3733/3733 [==============================] - 0s 30us/step - loss: 2.1373 - acc: 0.8674\n",
      "Epoch 11/20\n",
      "3733/3733 [==============================] - 0s 36us/step - loss: 2.1373 - acc: 0.8674\n",
      "Epoch 12/20\n",
      "3733/3733 [==============================] - 0s 35us/step - loss: 2.1373 - acc: 0.8674\n",
      "Epoch 13/20\n",
      "3733/3733 [==============================] - 0s 32us/step - loss: 2.1373 - acc: 0.8674\n",
      "Epoch 14/20\n",
      "3733/3733 [==============================] - 0s 32us/step - loss: 2.1373 - acc: 0.8674\n",
      "Epoch 15/20\n",
      "3733/3733 [==============================] - 0s 32us/step - loss: 2.1373 - acc: 0.8674\n",
      "Epoch 16/20\n",
      "3733/3733 [==============================] - 0s 35us/step - loss: 2.1373 - acc: 0.8674\n",
      "Epoch 17/20\n",
      "3733/3733 [==============================] - 0s 37us/step - loss: 2.1373 - acc: 0.8674\n",
      "Epoch 18/20\n",
      "3733/3733 [==============================] - 0s 34us/step - loss: 2.1373 - acc: 0.8674\n",
      "Epoch 19/20\n",
      "3733/3733 [==============================] - 0s 41us/step - loss: 2.1373 - acc: 0.8674\n",
      "Epoch 20/20\n",
      "3733/3733 [==============================] - 0s 46us/step - loss: 2.1373 - acc: 0.8674\n"
     ]
    },
    {
     "data": {
      "text/plain": [
       "<keras.callbacks.History at 0x7fd9528090f0>"
      ]
     },
     "execution_count": 263,
     "metadata": {},
     "output_type": "execute_result"
    }
   ],
   "source": [
    "print(\"Shape of input: {} and {} and shape of output: {}\".format(X_train.shape, len(X_train[0]), y_train[0]))\n",
    "model.summary()\n",
    "model.fit(X_train, y_train, epochs=20, batch_size = 64)"
   ]
  },
  {
   "cell_type": "code",
   "execution_count": 264,
   "metadata": {},
   "outputs": [
    {
     "name": "stdout",
     "output_type": "stream",
     "text": [
      "1839/1839 [==============================] - 0s 41us/step\n"
     ]
    },
    {
     "data": {
      "text/plain": [
       "[2.208678648742792, 0.8629690049911984]"
      ]
     },
     "execution_count": 264,
     "metadata": {},
     "output_type": "execute_result"
    }
   ],
   "source": [
    "model.evaluate(X_test, y_test)"
   ]
  },
  {
   "cell_type": "code",
   "execution_count": null,
   "metadata": {},
   "outputs": [],
   "source": []
  },
  {
   "cell_type": "code",
   "execution_count": null,
   "metadata": {},
   "outputs": [],
   "source": []
  }
 ],
 "metadata": {
  "kernelspec": {
   "display_name": "Python 3",
   "language": "python",
   "name": "python3"
  },
  "language_info": {
   "codemirror_mode": {
    "name": "ipython",
    "version": 3
   },
   "file_extension": ".py",
   "mimetype": "text/x-python",
   "name": "python",
   "nbconvert_exporter": "python",
   "pygments_lexer": "ipython3",
   "version": "3.6.3"
  }
 },
 "nbformat": 4,
 "nbformat_minor": 2
}
